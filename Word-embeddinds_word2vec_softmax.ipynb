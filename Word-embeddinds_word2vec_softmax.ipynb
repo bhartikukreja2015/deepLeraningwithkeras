{
 "cells": [
  {
   "cell_type": "code",
   "execution_count": 2,
   "metadata": {},
   "outputs": [],
   "source": [
    "import collections\n",
    "import math\n",
    "import os\n",
    "import random\n",
    "import zipfile"
   ]
  },
  {
   "cell_type": "code",
   "execution_count": 4,
   "metadata": {},
   "outputs": [],
   "source": [
    "# services to be imported \n",
    "\n",
    "# service of file download from six library\n",
    "from six.moves import urllib\n",
    "from six.moves import xrange\n",
    "\n",
    "\n",
    "# these utilities wrap over python 2 and 3\n"
   ]
  },
  {
   "cell_type": "code",
   "execution_count": 5,
   "metadata": {},
   "outputs": [
    {
     "name": "stderr",
     "output_type": "stream",
     "text": [
      "C:\\Users\\bharti\\Anaconda3\\lib\\site-packages\\h5py\\__init__.py:36: FutureWarning: Conversion of the second argument of issubdtype from `float` to `np.floating` is deprecated. In future, it will be treated as `np.float64 == np.dtype(float).type`.\n",
      "  from ._conv import register_converters as _register_converters\n"
     ]
    }
   ],
   "source": [
    "import numpy as np\n",
    "import tensorflow as tf"
   ]
  },
  {
   "cell_type": "code",
   "execution_count": 6,
   "metadata": {},
   "outputs": [
    {
     "name": "stdout",
     "output_type": "stream",
     "text": [
      "1.14.0\n",
      "1.10.0\n"
     ]
    }
   ],
   "source": [
    "print(np.__version__)\n",
    "print(tf.__version__)"
   ]
  },
  {
   "cell_type": "code",
   "execution_count": 7,
   "metadata": {},
   "outputs": [],
   "source": [
    "# file name for our local machine \n",
    "DOWNLOAD_FILENAME='SampleText.zip'"
   ]
  },
  {
   "cell_type": "code",
   "execution_count": 15,
   "metadata": {},
   "outputs": [],
   "source": [
    "def maybe_download(url_path,expected_bytes):\n",
    "    if not os.path.exists(DOWNLOAD_FILENAME):\n",
    "        filename, _ = urllib.request.urlretrieve(url_path,DOWNLOAD_FILENAME)\n",
    "    # check if downloaded file is corrupted\n",
    "    statinfo=os.stat(DOWNLOAD_FILENAME)\n",
    "    # let's check size of file against expected size\n",
    "    if statinfo.st_size == expected_bytes:\n",
    "        print('found and verified file from this path',url_path)\n",
    "        print('dounloaded file:',DOWNLOAD_FILENAME)\n",
    "    else:\n",
    "        print(\"size not as expected download from website directly\")\n",
    "        print(statinfo.st_size)\n",
    "        "
   ]
  },
  {
   "cell_type": "code",
   "execution_count": 16,
   "metadata": {},
   "outputs": [],
   "source": [
    "# function to read file and parse into individual words\n",
    "def read_words():\n",
    "    with zipfile.ZipFile(DOWNLOAD_FILENAME)as f:\n",
    "        # Get first file from zip contents\n",
    "        firstfile=f.namelist()[0]\n",
    "        # read contents of this file\n",
    "        # use tf.compat.as_str to convert the contents to string\n",
    "        filestring=tf.compat.as_str(f.read(firstfile))\n",
    "        # extract words from this entire file string\n",
    "        words=filestring.split()\n",
    "    return words"
   ]
  },
  {
   "cell_type": "code",
   "execution_count": 17,
   "metadata": {},
   "outputs": [
    {
     "name": "stdout",
     "output_type": "stream",
     "text": [
      "found and verified file from this path http://mattmahoney.net/dc/text8.zip\n",
      "dounloaded file: SampleText.zip\n"
     ]
    }
   ],
   "source": [
    "URL_PATH=\"http://mattmahoney.net/dc/text8.zip\"\n",
    "FILESIZE= 31344016\n",
    "maybe_download(URL_PATH,FILESIZE)"
   ]
  },
  {
   "cell_type": "code",
   "execution_count": 18,
   "metadata": {},
   "outputs": [
    {
     "data": {
      "text/plain": [
       "17005207"
      ]
     },
     "execution_count": 18,
     "metadata": {},
     "output_type": "execute_result"
    }
   ],
   "source": [
    "# all words of input data set \n",
    "vocabulary = read_words()\n",
    "len(vocabulary)\n",
    "# roughly 17 million words"
   ]
  },
  {
   "cell_type": "code",
   "execution_count": 33,
   "metadata": {},
   "outputs": [],
   "source": [
    "# let us build the daya set in a format that will be useful to us \n",
    "# let's generate embeddings only for top n words=n_words\n",
    "def build_dataset(words,n_words):\n",
    "    # word count is an array of arrays that holds words and there freqs\n",
    "    # words which are not in top n will be added to unknown count\n",
    "    word_counts=[['UNKNOWN',-1]]\n",
    "    # instantiate counter class from collection lib \n",
    "    # it will help us access the most frequently used words\n",
    "    counter = collections.Counter(words)\n",
    "    # fUNC most_common will give us this info\n",
    "    word_counts.extend(counter.most_common(n_words-1))\n",
    "    # these words are going to be fed to a NN in order to generate W E\n",
    "    # but NN only accepts numeric input\n",
    "    # so we will use unique indexes to represent these words\n",
    "    # higher the frequency - lower the indedx value\n",
    "    # let us store this word to unique id mapping in dict variable\n",
    "    dictionary=dict()\n",
    "    for word,_ in word_counts:\n",
    "        # iterating through word_counts array we will access words in desc order of freq\n",
    "        dictionary[word]=len(dictionary)\n",
    "    # assign unique index to every word ,\n",
    "    # the len of dict will increase at every step i.e. most common words having lowest index values\n",
    "    word_indexes=list()\n",
    "    unknown_count=0\n",
    "    for word in words:\n",
    "        if word in dictionary:\n",
    "            index=dictionary[word]\n",
    "        # occurrence of all other words outside top n \n",
    "        else:\n",
    "            index=0  ##dictionary['UNKNOWN']\n",
    "            unknown_count +=1\n",
    "        # now append the indexes for each word\n",
    "        word_indexes.append(index)\n",
    "        # word_indexes contains all the words in indexes form \n",
    "    # assign back the count of unknown words\n",
    "    word_counts[0][1]=unknown_count\n",
    "    \n",
    "    # there is one more thing we need a reverse dictionary \n",
    "    # which maps the unique index to the word itself\n",
    "    # {1:\"is\",2356:\"how\",43:\"this\",...}\n",
    "    reversed_dictionary = dict(zip(dictionary.values(),dictionary.keys()))\n",
    "    \n",
    "    return word_counts,word_indexes,dictionary,reversed_dictionary"
   ]
  },
  {
   "cell_type": "code",
   "execution_count": 34,
   "metadata": {},
   "outputs": [],
   "source": [
    "VOCABULARY_SIZE = 5000\n",
    "\n",
    "word_counts,word_indexes,dictionary,reversed_dictionary= build_dataset(vocabulary,VOCABULARY_SIZE)"
   ]
  },
  {
   "cell_type": "code",
   "execution_count": 35,
   "metadata": {},
   "outputs": [
    {
     "data": {
      "text/plain": [
       "[['UNKNOWN', 2735459],\n",
       " ('the', 1061396),\n",
       " ('of', 593677),\n",
       " ('and', 416629),\n",
       " ('one', 411764),\n",
       " ('in', 372201),\n",
       " ('a', 325873),\n",
       " ('to', 316376),\n",
       " ('zero', 264975),\n",
       " ('nine', 250430)]"
      ]
     },
     "execution_count": 35,
     "metadata": {},
     "output_type": "execute_result"
    }
   ],
   "source": [
    "# let's use softmax as pred layer to generate word embeddings\n",
    "# it will be very very slow training is almost impossible on 1 system\n",
    "\n",
    "# let's see sample of word counts\n",
    "word_counts[:10]"
   ]
  },
  {
   "cell_type": "code",
   "execution_count": 36,
   "metadata": {},
   "outputs": [
    {
     "data": {
      "text/plain": [
       "[0, 3081, 12, 6, 195, 2, 3134, 46, 59, 156]"
      ]
     },
     "execution_count": 36,
     "metadata": {},
     "output_type": "execute_result"
    }
   ],
   "source": [
    "word_indexes[:10]\n",
    "# contains indexes of all words"
   ]
  },
  {
   "cell_type": "code",
   "execution_count": 42,
   "metadata": {},
   "outputs": [
    {
     "name": "stdout",
     "output_type": "stream",
     "text": [
      "height : 2543\n",
      "consciousness : 2506\n",
      "hockey : 2464\n",
      "levels : 1106\n",
      "choose : 2439\n",
      "battle : 377\n",
      "him : 119\n",
      "court : 350\n",
      "wish : 3592\n",
      "formats : 4172\n"
     ]
    }
   ],
   "source": [
    "# random sample of keys and values from our dictionary \n",
    "\n",
    "import random \n",
    "\n",
    "for key in random.sample(list(dictionary),10):\n",
    "    print(key,\":\",dictionary[key])\n",
    "    \n",
    "# words that occur more free will have small values"
   ]
  },
  {
   "cell_type": "code",
   "execution_count": 43,
   "metadata": {},
   "outputs": [
    {
     "name": "stdout",
     "output_type": "stream",
     "text": [
      "1333 : netherlands\n",
      "4231 : creates\n",
      "357 : america\n",
      "3800 : interactive\n",
      "2776 : corporate\n",
      "4936 : syrian\n",
      "377 : battle\n",
      "3660 : purchased\n",
      "4808 : harold\n",
      "3963 : subset\n"
     ]
    }
   ],
   "source": [
    "# random sample of keys and values from our dictionary \n",
    "\n",
    "import random \n",
    "\n",
    "for key in random.sample(list(reversed_dictionary),10):\n",
    "    print(key,\":\",reversed_dictionary[key])\n",
    "    \n",
    "# words that occur more free will have small values"
   ]
  },
  {
   "cell_type": "code",
   "execution_count": 44,
   "metadata": {},
   "outputs": [],
   "source": [
    "# now since data set is generated, we no longer need vocab, so let's delete it\n",
    "\n",
    "del vocabulary\n",
    "\n",
    "# this gives a hint to python that we no longer need this an dit can go ahead and clean up the memory allocated\n"
   ]
  },
  {
   "cell_type": "code",
   "execution_count": 45,
   "metadata": {},
   "outputs": [],
   "source": [
    "# when we train a simple NN\n",
    "# we will feed in train data in batches\n",
    "global_index=0 #index of list of words from our i/p text file "
   ]
  },
  {
   "cell_type": "code",
   "execution_count": 52,
   "metadata": {},
   "outputs": [],
   "source": [
    "# helper method to generate first batch\n",
    "def generate_batch(word_indexes,batch_size,num_skips,skip_window):\n",
    "    # num_skips is number of words we will choose from our context window\n",
    "    # skip_window is num of eelements we want to consider on left and right of our word\n",
    "    # num_skips=2 means we will pick 2 (random) of the words from surronding context of input word as target word\n",
    "    # global index will keep track of where we are in document\n",
    "    global global_index\n",
    "    \n",
    "    # in any bacth any word will appear num_skips times\n",
    "    # e.g for word fox we picked 2 random words jump and quick so it will have 2 mappings\n",
    "    # once with every target word\n",
    "    # batch size has to be multipme of num_skips\n",
    "    assert batch_size%num_skips == 0\n",
    "    # also we cannot select words more that what is present in context window\n",
    "    assert num_skips <=2*skip_window\n",
    "    \n",
    "    # batch car will hold input words with size as batch size\n",
    "    batch=np.ndarray(shape=(batch_size),dtype=np.int32)\n",
    "    \n",
    "    # labels are array of arrays and contain the indexes of target predicted words\n",
    "    labels=np.ndarray(shape=(batch_size,1),dtype=np.int32)\n",
    "    # total size of context window\n",
    "    span=2*skip_window +1 # skip window-input-word skip window\n",
    "    \n",
    "    # text fragment within context window will be stored in deque\n",
    "    # (DS)-double ended queue\n",
    "    # maxlen of deque is same as len of context window\n",
    "    buffer= collections.deque(maxlen=span)\n",
    "    # we are using it bcoz deque allows fast add and removal from either end\n",
    "    \n",
    "    # initialize the deque to word on whiCh skip gram is to applied to get train data\n",
    "    for _ in range(span):\n",
    "        buffer.append(word_indexes[global_index])\n",
    "        # increment global index\n",
    "        # make sure it moves to beg once it is done at end\n",
    "        global_index=(global_index+1)%len(word_indexes)\n",
    "        \n",
    "    # each input word will be used to predict num_skips no of target words\n",
    "    for i in range(batch_size//num_skips):\n",
    "        #// is Floor Division\n",
    "        #initialize target to input word\n",
    "        target = skip_window  # input word at ceter of winodw\n",
    "        #removing input word itself to be as target \n",
    "        targets_to_avoid=[skip_window]\n",
    "    \n",
    "        # let's now pick words at random\n",
    "        for j in range(num_skips):\n",
    "            while target in targets_to_avoid:\n",
    "                target=random.randint(0,span-1)\n",
    "                \n",
    "            # add the word u have picked to the list\n",
    "            targets_to_avoid.append(target)\n",
    "            \n",
    "            # assign input word to batch array and targets to label array\n",
    "            batch[i*num_skips+j]=buffer[skip_window] # input word\n",
    "            labels[i*num_skips+j,0]=buffer[target] # context words\n",
    "        # let's slide over the context window for next input\n",
    "        # appending next word the deque, this will automatically remove a word from beg of deque\n",
    "        buffer.append(word_indexes[global_index])\n",
    "        # move global index\n",
    "        global_index= (global_index+1)%len(word_indexes)\n",
    "    \n",
    "    # back track to see that words at end of a batch are included in next batch\n",
    "    # i.e. words at the end of batch might not be done fully here so back track for it\n",
    "    global_index=(global_index+len(word_indexes)-span)%len(word_indexes)\n",
    "    return batch, labels\n",
    "\n",
    "    "
   ]
  },
  {
   "cell_type": "code",
   "execution_count": 53,
   "metadata": {},
   "outputs": [],
   "source": [
    "batch,labels=generate_batch(word_indexes,10,2,5)\n",
    "# 10,2,5-> batch size, num_skips,skip_window"
   ]
  },
  {
   "cell_type": "code",
   "execution_count": 54,
   "metadata": {},
   "outputs": [
    {
     "data": {
      "text/plain": [
       "array([ 151,  151,  855,  855, 3581, 3581,    1,    1,  195,  195])"
      ]
     },
     "execution_count": 54,
     "metadata": {},
     "output_type": "execute_result"
    }
   ],
   "source": [
    "batch\n",
    "# it's simply array of numbers with every word present twice that's input 2 times bcoz num_skips=2"
   ]
  },
  {
   "cell_type": "code",
   "execution_count": 56,
   "metadata": {},
   "outputs": [
    {
     "data": {
      "text/plain": [
       "array([[ 855],\n",
       "       [   0],\n",
       "       [   2],\n",
       "       [3581],\n",
       "       [   2],\n",
       "       [  11],\n",
       "       [   2],\n",
       "       [ 195],\n",
       "       [  59],\n",
       "       [ 855]])"
      ]
     },
     "execution_count": 56,
     "metadata": {},
     "output_type": "execute_result"
    }
   ],
   "source": [
    "# input word has topredict 2 target words from the window\n",
    "labels"
   ]
  },
  {
   "cell_type": "code",
   "execution_count": 58,
   "metadata": {},
   "outputs": [
    {
     "name": "stdout",
     "output_type": "stream",
     "text": [
      "french : revolution\n",
      "french : UNKNOWN\n",
      "revolution : of\n",
      "revolution : whilst\n",
      "whilst : of\n",
      "whilst : is\n",
      "the : of\n",
      "the : term\n",
      "term : used\n"
     ]
    }
   ],
   "source": [
    "# this will make more ssense if we print aactual words from rev dict\n",
    "# let's print actual words and targets\n",
    "for i in range(9):\n",
    "    print(reversed_dictionary[batch[i]],\":\",reversed_dictionary[labels[i][0]])"
   ]
  },
  {
   "cell_type": "code",
   "execution_count": 59,
   "metadata": {},
   "outputs": [],
   "source": [
    "# now train data s ready we are all set to feed in data to NN\n",
    "\n",
    "# reset global index\n",
    "global_index=0\n",
    "valid_size=16 \n",
    "# valid_size -> taking 16 random words from top most freq occurring words\n",
    "# and see what their closest neighbors are \n",
    "valid_window=100\n",
    "# i.e within top 100 words pick 16 words at random\n",
    "valid_examples=np.random.choice(valid_window,valid_size,replace=True)\n"
   ]
  },
  {
   "cell_type": "code",
   "execution_count": 60,
   "metadata": {},
   "outputs": [],
   "source": [
    "batch_size=128\n",
    "# i.e. we will feed 128 words and there corresponding targets in 1 iteration\n",
    "embedding_size=50\n",
    "# num of dimensions that our word embeddings will have\n",
    "# so hidden layer will have 50 neurons\n",
    "skip_window=2\n",
    "num_skips=2"
   ]
  },
  {
   "cell_type": "code",
   "execution_count": 62,
   "metadata": {},
   "outputs": [],
   "source": [
    "# let's start by making fresh tensorflow graph\n",
    "tf.reset_default_graph()\n",
    "# our input placeholders\n",
    "train_inputs= tf.placeholder(tf.int32,shape=[batch_size])\n",
    "train_labels= tf.placeholder(tf.int32,shape=[batch_size,1])"
   ]
  },
  {
   "cell_type": "code",
   "execution_count": 63,
   "metadata": {},
   "outputs": [],
   "source": [
    "# at every iteration we will feed in 128 bits of input and their corresponding labels\n",
    "# we have kept a backup set-> which has randome instances\n",
    "# valid_examples to validate training\n",
    "\n",
    "valid_dataset=tf.constant(valid_examples,dtype=tf.int32)\n"
   ]
  },
  {
   "cell_type": "code",
   "execution_count": 64,
   "metadata": {},
   "outputs": [],
   "source": [
    "# shape would be vXn\n",
    "# fo each word n dimensional embedding\n",
    "embeddings=tf.Variable(tf.random_uniform([VOCABULARY_SIZE,embedding_size],-1.0,1.0))\n",
    "\n",
    "embed=tf.nn.embedding_lookup(embeddings,train_inputs)"
   ]
  },
  {
   "cell_type": "code",
   "execution_count": 65,
   "metadata": {},
   "outputs": [
    {
     "data": {
      "text/plain": [
       "<tf.Variable 'Variable:0' shape=(5000, 50) dtype=float32_ref>"
      ]
     },
     "execution_count": 65,
     "metadata": {},
     "output_type": "execute_result"
    }
   ],
   "source": [
    "embeddings\n",
    "# 5000 vocab size 50 embedding size"
   ]
  },
  {
   "cell_type": "code",
   "execution_count": 66,
   "metadata": {},
   "outputs": [
    {
     "data": {
      "text/plain": [
       "<tf.Tensor 'embedding_lookup:0' shape=(128, 50) dtype=float32>"
      ]
     },
     "execution_count": 66,
     "metadata": {},
     "output_type": "execute_result"
    }
   ],
   "source": [
    "embed\n",
    "# 128*50\n",
    "# batch size is 128\n"
   ]
  },
  {
   "cell_type": "code",
   "execution_count": 67,
   "metadata": {},
   "outputs": [],
   "source": [
    "# let us setup linear hidden layer\n",
    "weights = tf.Variable(tf.truncated_normal([VOCABULARY_SIZE,embedding_size],stddev=1.0/math.sqrt(embedding_size)))\n",
    "# these weights will be multiplied with inputs\n",
    "\n",
    "# biases would be determined during training\n",
    "biases=tf.Variable(tf.zeros([VOCABULARY_SIZE]))"
   ]
  },
  {
   "cell_type": "code",
   "execution_count": 69,
   "metadata": {},
   "outputs": [],
   "source": [
    "\n",
    "# multiply x with weights and add biases\n",
    "# hidden layer output\n",
    "hidden_out=tf.matmul(embed,tf.transpose(weights))+biases\n",
    "\n",
    "# transpose is doen for rc match for multiplication\n",
    "\n",
    "# this is a NN layer with no activation fucntion: linear layer"
   ]
  },
  {
   "cell_type": "code",
   "execution_count": 70,
   "metadata": {},
   "outputs": [
    {
     "data": {
      "text/plain": [
       "<tf.Tensor 'add:0' shape=(128, 5000) dtype=float32>"
      ]
     },
     "execution_count": 70,
     "metadata": {},
     "output_type": "execute_result"
    }
   ],
   "source": [
    "hidden_out"
   ]
  },
  {
   "cell_type": "code",
   "execution_count": 71,
   "metadata": {},
   "outputs": [],
   "source": [
    "# convert lables of train to one hot notation\n",
    "\n",
    "train_one_hot=tf.one_hot(train_labels,VOCABULARY_SIZE)"
   ]
  },
  {
   "cell_type": "code",
   "execution_count": 74,
   "metadata": {},
   "outputs": [],
   "source": [
    "# output of hidden layer is fed to softmax pred layer \n",
    "# using cross entrophy as loss function\n",
    "\n",
    "loss= tf.reduce_mean(tf.nn.softmax_cross_entropy_with_logits(logits=hidden_out,labels=train_one_hot))"
   ]
  },
  {
   "cell_type": "code",
   "execution_count": 75,
   "metadata": {},
   "outputs": [],
   "source": [
    "optimizer= tf.train.GradientDescentOptimizer(0.1).minimize(loss)"
   ]
  },
  {
   "cell_type": "code",
   "execution_count": 76,
   "metadata": {},
   "outputs": [
    {
     "name": "stdout",
     "output_type": "stream",
     "text": [
      "WARNING:tensorflow:From <ipython-input-76-80f1073238ff>:1: calling reduce_sum (from tensorflow.python.ops.math_ops) with keep_dims is deprecated and will be removed in a future version.\n",
      "Instructions for updating:\n",
      "keep_dims is deprecated, use keepdims instead\n"
     ]
    }
   ],
   "source": [
    "l2_norm=tf.sqrt(tf.reduce_sum(tf.square(embeddings),1,keep_dims=True))\n",
    "\n",
    "# find normalized embeddings by diving them with l2 norm\n",
    "\n",
    "normalized_embeddings=embeddings/l2_norm\n",
    "# now we will use these normalized embeddings to find cosine similarity on validation data\n",
    "# this is to check how our wordtovec embeddings are working\n",
    "# if similar things are clustered together then it is working well\n",
    "\n",
    "\n",
    "# let's separate the embeddings of validation data\n",
    "\n",
    "valid_embeddings=tf.nn.embedding_lookup(normalized_embeddings,valid_dataset)"
   ]
  },
  {
   "cell_type": "code",
   "execution_count": 77,
   "metadata": {},
   "outputs": [
    {
     "data": {
      "text/plain": [
       "<tf.Tensor 'embedding_lookup_1:0' shape=(16, 50) dtype=float32>"
      ]
     },
     "execution_count": 77,
     "metadata": {},
     "output_type": "execute_result"
    }
   ],
   "source": [
    "valid_embeddings\n",
    "# shape is 16 x 50 bcoz 16 validation inputs with 50 dimension embeddings"
   ]
  },
  {
   "cell_type": "code",
   "execution_count": 78,
   "metadata": {},
   "outputs": [
    {
     "data": {
      "text/plain": [
       "<tf.Tensor 'truediv:0' shape=(5000, 50) dtype=float32>"
      ]
     },
     "execution_count": 78,
     "metadata": {},
     "output_type": "execute_result"
    }
   ],
   "source": [
    "normalized_embeddings\n",
    "# shape is 5000 * 50 for entire set "
   ]
  },
  {
   "cell_type": "code",
   "execution_count": 79,
   "metadata": {},
   "outputs": [],
   "source": [
    "# cosine similarty between validation data \n",
    "# and all other words present\n",
    "similarity=tf.matmul(valid_embeddings,normalized_embeddings,transpose_b=True)"
   ]
  },
  {
   "cell_type": "code",
   "execution_count": 81,
   "metadata": {},
   "outputs": [
    {
     "data": {
      "text/plain": [
       "<tf.Tensor 'MatMul_2:0' shape=(16, 5000) dtype=float32>"
      ]
     },
     "execution_count": 81,
     "metadata": {},
     "output_type": "execute_result"
    }
   ],
   "source": [
    "similarity"
   ]
  },
  {
   "cell_type": "code",
   "execution_count": 82,
   "metadata": {},
   "outputs": [],
   "source": [
    "# now we are ready  to train NN\n",
    "\n",
    "init= tf.global_variables_initializer()"
   ]
  },
  {
   "cell_type": "code",
   "execution_count": 83,
   "metadata": {},
   "outputs": [],
   "source": [
    "# num of steps or epochs to be run for training\n",
    "num_steps = 20001"
   ]
  },
  {
   "cell_type": "code",
   "execution_count": 94,
   "metadata": {},
   "outputs": [
    {
     "name": "stdout",
     "output_type": "stream",
     "text": [
      "Average loss at step 0 : 8.705581665039062\n",
      "Nearest to three: crowd automatic chemistry poets serving mutual gas edward\n",
      "Nearest to UNKNOWN: census rare easy down grew omega ac whatever\n",
      "Nearest to were: enterprise mtv autonomy cult audio professor align views\n",
      "Nearest to history: horses ideas remains america terrain date achieved primarily\n",
      "Nearest to five: bavaria leads disk substantial births pop topics official\n",
      "Nearest to on: public accessed cult series roles cats iso editing\n",
      "Nearest to have: greater factors violent latin stone hunt credit task\n",
      "Nearest to an: module html retrieved descriptions ann touch connections still\n",
      "Nearest to of: fellow civilization past decisions always reflected supply fallen\n",
      "Nearest to not: into trading drugs mythology aid archive moon repeated\n",
      "Nearest to often: groups foreign stones superior temple whereas experiences europeans\n",
      "Nearest to that: effective decide surgery tone noise variables hold romans\n",
      "Nearest to he: clear opposition floor body chance links started longest\n",
      "Nearest to up: want mine christopher competitive hero concepts inhabited democracy\n",
      "Nearest to many: organizations meters afghan haiti anderson born possession names\n",
      "Nearest to on: public accessed cult series roles cats iso editing\n",
      "\n",
      "\n",
      "Average loss at step 2000 : 6.838667059898376\n",
      "Average loss at step 4000 : 6.132791315317154\n",
      "Average loss at step 6000 : 6.01987446641922\n",
      "Average loss at step 8000 : 5.918875398993492\n",
      "Average loss at step 10000 : 5.841737582802772\n",
      "Nearest to three: serving chemistry automatic crowd partner blocks poets iraqi\n",
      "Nearest to UNKNOWN: the easy omega task down gods census virus\n",
      "Nearest to were: mtv enterprise align professor cult autonomy views audio\n",
      "Nearest to history: horses ideas remains america terrain date primarily reduce\n",
      "Nearest to five: measured disambiguation bavaria leads topics viii three authors\n",
      "Nearest to on: series public accessed cult editing roles by compiler\n",
      "Nearest to have: greater factors latin hunt violent task credit stone\n",
      "Nearest to an: html module retrieved descriptions ann touch vienna beginning\n",
      "Nearest to of: past tea civilization chemistry ion onto look press\n",
      "Nearest to not: into mythology aid trading drugs archive repeated moon\n",
      "Nearest to often: groups foreign stones superior temple designed whereas experiences\n",
      "Nearest to that: effective surgery tone agreed virus decide look bits\n",
      "Nearest to he: floor clear longest opposition chance started bad pi\n",
      "Nearest to up: want mine competitive christopher democracy inhabited concepts hero\n",
      "Nearest to many: organizations meters born afghan anderson haiti possession atlas\n",
      "Nearest to on: series public accessed cult editing roles by compiler\n",
      "\n",
      "\n",
      "Average loss at step 12000 : 5.775665256261825\n",
      "Average loss at step 14000 : 5.652021595954895\n",
      "Average loss at step 16000 : 5.841991511464119\n",
      "Average loss at step 18000 : 5.764149862647057\n",
      "Average loss at step 20000 : 5.8103199634552\n",
      "Nearest to three: serving five chemistry automatic crowd partner blocks iraqi\n",
      "Nearest to UNKNOWN: the and easy gods omega down task virus\n",
      "Nearest to were: mtv enterprise align professor cult views audio debt\n",
      "Nearest to history: horses remains america ideas date terrain primarily reduce\n",
      "Nearest to five: three measured disambiguation bavaria viii two leads authors\n",
      "Nearest to on: series by editing public accessed roles cult to\n",
      "Nearest to have: greater factors latin hunt credit task province violent\n",
      "Nearest to an: html module retrieved descriptions ann touch beginning usage\n",
      "Nearest to of: tea past ion by onto gods look civilization\n",
      "Nearest to not: into mythology aid trading drugs archive concerning repeated\n",
      "Nearest to often: groups foreign stones designed superior temple experiences whereas\n",
      "Nearest to that: effective surgery tone virus agreed look decide he\n",
      "Nearest to he: floor clear longest opposition that bad chance started\n",
      "Nearest to up: want mine democracy competitive inhabited christopher concepts above\n",
      "Nearest to many: organizations meters born afghan atlas anderson haiti possession\n",
      "Nearest to on: series by editing public accessed roles cult to\n",
      "\n",
      "\n"
     ]
    }
   ],
   "source": [
    "with tf.Session() as session:\n",
    "    init.run()\n",
    "    average_loss=0\n",
    "    for step in xrange(num_steps):\n",
    "        batch_inputs,batch_labels=generate_batch(word_indexes,batch_size,num_skips,skip_window)\n",
    "        # feed dict to feed train data and its labels\n",
    "        feed_dict={train_inputs:batch_inputs,train_labels:batch_labels}\n",
    "        \n",
    "        _,loss_val=session.run([optimizer,loss],feed_dict=feed_dict)\n",
    "        average_loss+=loss_val\n",
    "        \n",
    "        # divide avg loss by 2000 bcoz it has run for 2000 ecpochs and got added up\n",
    "        \n",
    "        \n",
    "        if step%2000==0:\n",
    "            if step>0:\n",
    "                average_loss /=2000\n",
    "            print('Average loss at step',step ,\":\",average_loss)\n",
    "            average_loss=0\n",
    "            \n",
    "        # every 10000 steps we will take val data and find closest embedding words\n",
    "        if step%10000==0:\n",
    "            sim=similarity.eval()\n",
    "            for i in xrange(valid_size):\n",
    "                valid_word=reversed_dictionary[valid_examples[i]]\n",
    "                top_k=8 # no of nearest neighbors\n",
    "                nearest=(-sim[i,:]).argsort()[1:top_k+1]\n",
    "                # arg sort sorts from largest to smallest so we kept negative sign\n",
    "                # -sim\n",
    "                # sign is flipped so atht largest distance is the smallest number\n",
    "                log_str='Nearest to %s:' %valid_word\n",
    "                for k in xrange(top_k):\n",
    "                    close_word=reversed_dictionary[nearest[k]]\n",
    "                    log_str='%s %s' % (log_str, close_word)\n",
    "                print(log_str)\n",
    "            print(\"\\n\")\n",
    "                    \n",
    "                "
   ]
  },
  {
   "cell_type": "code",
   "execution_count": null,
   "metadata": {},
   "outputs": [],
   "source": []
  }
 ],
 "metadata": {
  "kernelspec": {
   "display_name": "Python 3",
   "language": "python",
   "name": "python3"
  },
  "language_info": {
   "codemirror_mode": {
    "name": "ipython",
    "version": 3
   },
   "file_extension": ".py",
   "mimetype": "text/x-python",
   "name": "python",
   "nbconvert_exporter": "python",
   "pygments_lexer": "ipython3",
   "version": "3.6.4"
  }
 },
 "nbformat": 4,
 "nbformat_minor": 2
}
